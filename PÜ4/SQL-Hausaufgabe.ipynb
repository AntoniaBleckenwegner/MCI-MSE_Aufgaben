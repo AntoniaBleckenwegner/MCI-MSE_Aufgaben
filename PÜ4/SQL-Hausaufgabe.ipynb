{
  "cells": [
    {
      "cell_type": "markdown",
      "metadata": {
        "id": "32gypts6tYAf"
      },
      "source": [
        "# SQL\n",
        "\n",
        "## Vorbereitung des Notebooks\n",
        "\n",
        "Hier nichts verändern."
      ]
    },
    {
      "cell_type": "code",
      "execution_count": 3,
      "metadata": {
        "colab": {
          "base_uri": "https://localhost:8080/"
        },
        "id": "UEtwkNNghr7J",
        "outputId": "1822bc14-36af-4020-8d5b-07e0725699c7"
      },
      "outputs": [
        {
          "name": "stdout",
          "output_type": "stream",
          "text": [
            "Requirement already satisfied: pandasql in /opt/anaconda3/lib/python3.8/site-packages (0.7.3)\n",
            "Requirement already satisfied: numpy in /opt/anaconda3/lib/python3.8/site-packages (from pandasql) (1.20.1)\n",
            "Requirement already satisfied: pandas in /opt/anaconda3/lib/python3.8/site-packages (from pandasql) (1.2.4)\n",
            "Requirement already satisfied: sqlalchemy in /opt/anaconda3/lib/python3.8/site-packages (from pandasql) (1.4.7)\n",
            "Requirement already satisfied: python-dateutil>=2.7.3 in /opt/anaconda3/lib/python3.8/site-packages (from pandas->pandasql) (2.8.1)\n",
            "Requirement already satisfied: pytz>=2017.3 in /opt/anaconda3/lib/python3.8/site-packages (from pandas->pandasql) (2021.1)\n",
            "Requirement already satisfied: six>=1.5 in /opt/anaconda3/lib/python3.8/site-packages (from python-dateutil>=2.7.3->pandas->pandasql) (1.15.0)\n",
            "Requirement already satisfied: greenlet!=0.4.17 in /opt/anaconda3/lib/python3.8/site-packages (from sqlalchemy->pandasql) (1.0.0)\n",
            "Note: you may need to restart the kernel to use updated packages.\n"
          ]
        }
      ],
      "source": [
        "# Installiert Paket, damit man SQL-Befehle auf Dataframes anwenden kann\n",
        "!pip install pandasql\n",
        "\n",
        "# Lädt Paket, damit man Dataframes (Tabellen in Python) anwenden kann\n",
        "import pandas as pd\n",
        "# Lädt Paket, damit man SQL-Befehle auf Dataframes anwenden kann\n",
        "import pandasql as ps"
      ]
    },
    {
      "cell_type": "markdown",
      "metadata": {
        "id": "CVS7brUXuJyu"
      },
      "source": [
        "## Datenbeschreibung\n",
        "\n",
        "Performance_data ist ein Datensatz über vorangegangene Leistungstests (VO2_max). Zudem enthält es Informationen über das Geschlecht und Alter der Untersuchten, ob diese rauchen oder nicht, deren Körpergröße und Gewicht, sowie die die Diagnostikerin, die den Test durchgeführt hat. Zudem wird der Erlös erhoben, der bei der Krankenkasse für die Diagnostik verrechnet wurde.\n",
        "\n",
        "### Aufgabe\n",
        "\n",
        "Laden die die Daten in einen pandas DataFrame und zeigen Sie diese an."
      ]
    },
    {
      "cell_type": "code",
      "execution_count": 5,
      "metadata": {
        "id": "AaYTV6ZTkSNZ"
      },
      "outputs": [
        {
          "data": {
            "text/html": [
              "<div>\n",
              "<style scoped>\n",
              "    .dataframe tbody tr th:only-of-type {\n",
              "        vertical-align: middle;\n",
              "    }\n",
              "\n",
              "    .dataframe tbody tr th {\n",
              "        vertical-align: top;\n",
              "    }\n",
              "\n",
              "    .dataframe thead th {\n",
              "        text-align: right;\n",
              "    }\n",
              "</style>\n",
              "<table border=\"1\" class=\"dataframe\">\n",
              "  <thead>\n",
              "    <tr style=\"text-align: right;\">\n",
              "      <th></th>\n",
              "      <th>Unnamed: 0</th>\n",
              "      <th>VO2_max</th>\n",
              "      <th>age</th>\n",
              "      <th>smoker</th>\n",
              "      <th>height</th>\n",
              "      <th>weight</th>\n",
              "      <th>revenue</th>\n",
              "      <th>diagnostician_id</th>\n",
              "      <th>gender</th>\n",
              "    </tr>\n",
              "  </thead>\n",
              "  <tbody>\n",
              "    <tr>\n",
              "      <th>0</th>\n",
              "      <td>0</td>\n",
              "      <td>45</td>\n",
              "      <td>66</td>\n",
              "      <td>True</td>\n",
              "      <td>165</td>\n",
              "      <td>76</td>\n",
              "      <td>30</td>\n",
              "      <td>2</td>\n",
              "      <td>Male</td>\n",
              "    </tr>\n",
              "    <tr>\n",
              "      <th>1</th>\n",
              "      <td>1</td>\n",
              "      <td>37</td>\n",
              "      <td>58</td>\n",
              "      <td>False</td>\n",
              "      <td>180</td>\n",
              "      <td>87</td>\n",
              "      <td>32</td>\n",
              "      <td>1</td>\n",
              "      <td>Female</td>\n",
              "    </tr>\n",
              "    <tr>\n",
              "      <th>2</th>\n",
              "      <td>2</td>\n",
              "      <td>54</td>\n",
              "      <td>27</td>\n",
              "      <td>False</td>\n",
              "      <td>155</td>\n",
              "      <td>62</td>\n",
              "      <td>29</td>\n",
              "      <td>0</td>\n",
              "      <td>Male</td>\n",
              "    </tr>\n",
              "    <tr>\n",
              "      <th>3</th>\n",
              "      <td>3</td>\n",
              "      <td>58</td>\n",
              "      <td>32</td>\n",
              "      <td>False</td>\n",
              "      <td>183</td>\n",
              "      <td>78</td>\n",
              "      <td>26</td>\n",
              "      <td>0</td>\n",
              "      <td>Male</td>\n",
              "    </tr>\n",
              "    <tr>\n",
              "      <th>4</th>\n",
              "      <td>4</td>\n",
              "      <td>45</td>\n",
              "      <td>75</td>\n",
              "      <td>True</td>\n",
              "      <td>166</td>\n",
              "      <td>101</td>\n",
              "      <td>10</td>\n",
              "      <td>2</td>\n",
              "      <td>Female</td>\n",
              "    </tr>\n",
              "    <tr>\n",
              "      <th>...</th>\n",
              "      <td>...</td>\n",
              "      <td>...</td>\n",
              "      <td>...</td>\n",
              "      <td>...</td>\n",
              "      <td>...</td>\n",
              "      <td>...</td>\n",
              "      <td>...</td>\n",
              "      <td>...</td>\n",
              "      <td>...</td>\n",
              "    </tr>\n",
              "    <tr>\n",
              "      <th>195</th>\n",
              "      <td>195</td>\n",
              "      <td>55</td>\n",
              "      <td>24</td>\n",
              "      <td>True</td>\n",
              "      <td>160</td>\n",
              "      <td>74</td>\n",
              "      <td>11</td>\n",
              "      <td>3</td>\n",
              "      <td>Male</td>\n",
              "    </tr>\n",
              "    <tr>\n",
              "      <th>196</th>\n",
              "      <td>196</td>\n",
              "      <td>46</td>\n",
              "      <td>17</td>\n",
              "      <td>False</td>\n",
              "      <td>172</td>\n",
              "      <td>92</td>\n",
              "      <td>18</td>\n",
              "      <td>3</td>\n",
              "      <td>Male</td>\n",
              "    </tr>\n",
              "    <tr>\n",
              "      <th>197</th>\n",
              "      <td>197</td>\n",
              "      <td>61</td>\n",
              "      <td>52</td>\n",
              "      <td>False</td>\n",
              "      <td>164</td>\n",
              "      <td>84</td>\n",
              "      <td>29</td>\n",
              "      <td>0</td>\n",
              "      <td>Female</td>\n",
              "    </tr>\n",
              "    <tr>\n",
              "      <th>198</th>\n",
              "      <td>198</td>\n",
              "      <td>67</td>\n",
              "      <td>46</td>\n",
              "      <td>True</td>\n",
              "      <td>164</td>\n",
              "      <td>78</td>\n",
              "      <td>39</td>\n",
              "      <td>1</td>\n",
              "      <td>Male</td>\n",
              "    </tr>\n",
              "    <tr>\n",
              "      <th>199</th>\n",
              "      <td>199</td>\n",
              "      <td>43</td>\n",
              "      <td>39</td>\n",
              "      <td>False</td>\n",
              "      <td>162</td>\n",
              "      <td>107</td>\n",
              "      <td>36</td>\n",
              "      <td>1</td>\n",
              "      <td>Male</td>\n",
              "    </tr>\n",
              "  </tbody>\n",
              "</table>\n",
              "<p>200 rows × 9 columns</p>\n",
              "</div>"
            ],
            "text/plain": [
              "     Unnamed: 0  VO2_max  age  smoker  height  weight  revenue  \\\n",
              "0             0       45   66    True     165      76       30   \n",
              "1             1       37   58   False     180      87       32   \n",
              "2             2       54   27   False     155      62       29   \n",
              "3             3       58   32   False     183      78       26   \n",
              "4             4       45   75    True     166     101       10   \n",
              "..          ...      ...  ...     ...     ...     ...      ...   \n",
              "195         195       55   24    True     160      74       11   \n",
              "196         196       46   17   False     172      92       18   \n",
              "197         197       61   52   False     164      84       29   \n",
              "198         198       67   46    True     164      78       39   \n",
              "199         199       43   39   False     162     107       36   \n",
              "\n",
              "     diagnostician_id  gender  \n",
              "0                   2    Male  \n",
              "1                   1  Female  \n",
              "2                   0    Male  \n",
              "3                   0    Male  \n",
              "4                   2  Female  \n",
              "..                ...     ...  \n",
              "195                 3    Male  \n",
              "196                 3    Male  \n",
              "197                 0  Female  \n",
              "198                 1    Male  \n",
              "199                 1    Male  \n",
              "\n",
              "[200 rows x 9 columns]"
            ]
          },
          "execution_count": 5,
          "metadata": {},
          "output_type": "execute_result"
        }
      ],
      "source": [
        "performance_data = pd.read_csv(\"test_data.csv\")\n",
        "performance_data"
      ]
    },
    {
      "cell_type": "code",
      "execution_count": 4,
      "metadata": {
        "colab": {
          "base_uri": "https://localhost:8080/",
          "height": 423
        },
        "id": "-rLAcnlTiAMR",
        "outputId": "4352f846-3652-4d1f-a473-24a139622c0d"
      },
      "outputs": [
        {
          "data": {
            "text/html": [
              "<div>\n",
              "<style scoped>\n",
              "    .dataframe tbody tr th:only-of-type {\n",
              "        vertical-align: middle;\n",
              "    }\n",
              "\n",
              "    .dataframe tbody tr th {\n",
              "        vertical-align: top;\n",
              "    }\n",
              "\n",
              "    .dataframe thead th {\n",
              "        text-align: right;\n",
              "    }\n",
              "</style>\n",
              "<table border=\"1\" class=\"dataframe\">\n",
              "  <thead>\n",
              "    <tr style=\"text-align: right;\">\n",
              "      <th></th>\n",
              "      <th>Unnamed: 0</th>\n",
              "      <th>VO2_max</th>\n",
              "      <th>age</th>\n",
              "      <th>smoker</th>\n",
              "      <th>height</th>\n",
              "      <th>weight</th>\n",
              "      <th>revenue</th>\n",
              "      <th>diagnostician_id</th>\n",
              "      <th>gender</th>\n",
              "    </tr>\n",
              "  </thead>\n",
              "  <tbody>\n",
              "    <tr>\n",
              "      <th>0</th>\n",
              "      <td>0</td>\n",
              "      <td>45</td>\n",
              "      <td>66</td>\n",
              "      <td>True</td>\n",
              "      <td>165</td>\n",
              "      <td>76</td>\n",
              "      <td>30</td>\n",
              "      <td>2</td>\n",
              "      <td>Male</td>\n",
              "    </tr>\n",
              "    <tr>\n",
              "      <th>1</th>\n",
              "      <td>1</td>\n",
              "      <td>37</td>\n",
              "      <td>58</td>\n",
              "      <td>False</td>\n",
              "      <td>180</td>\n",
              "      <td>87</td>\n",
              "      <td>32</td>\n",
              "      <td>1</td>\n",
              "      <td>Female</td>\n",
              "    </tr>\n",
              "    <tr>\n",
              "      <th>2</th>\n",
              "      <td>2</td>\n",
              "      <td>54</td>\n",
              "      <td>27</td>\n",
              "      <td>False</td>\n",
              "      <td>155</td>\n",
              "      <td>62</td>\n",
              "      <td>29</td>\n",
              "      <td>0</td>\n",
              "      <td>Male</td>\n",
              "    </tr>\n",
              "    <tr>\n",
              "      <th>3</th>\n",
              "      <td>3</td>\n",
              "      <td>58</td>\n",
              "      <td>32</td>\n",
              "      <td>False</td>\n",
              "      <td>183</td>\n",
              "      <td>78</td>\n",
              "      <td>26</td>\n",
              "      <td>0</td>\n",
              "      <td>Male</td>\n",
              "    </tr>\n",
              "    <tr>\n",
              "      <th>4</th>\n",
              "      <td>4</td>\n",
              "      <td>45</td>\n",
              "      <td>75</td>\n",
              "      <td>True</td>\n",
              "      <td>166</td>\n",
              "      <td>101</td>\n",
              "      <td>10</td>\n",
              "      <td>2</td>\n",
              "      <td>Female</td>\n",
              "    </tr>\n",
              "    <tr>\n",
              "      <th>...</th>\n",
              "      <td>...</td>\n",
              "      <td>...</td>\n",
              "      <td>...</td>\n",
              "      <td>...</td>\n",
              "      <td>...</td>\n",
              "      <td>...</td>\n",
              "      <td>...</td>\n",
              "      <td>...</td>\n",
              "      <td>...</td>\n",
              "    </tr>\n",
              "    <tr>\n",
              "      <th>195</th>\n",
              "      <td>195</td>\n",
              "      <td>55</td>\n",
              "      <td>24</td>\n",
              "      <td>True</td>\n",
              "      <td>160</td>\n",
              "      <td>74</td>\n",
              "      <td>11</td>\n",
              "      <td>3</td>\n",
              "      <td>Male</td>\n",
              "    </tr>\n",
              "    <tr>\n",
              "      <th>196</th>\n",
              "      <td>196</td>\n",
              "      <td>46</td>\n",
              "      <td>17</td>\n",
              "      <td>False</td>\n",
              "      <td>172</td>\n",
              "      <td>92</td>\n",
              "      <td>18</td>\n",
              "      <td>3</td>\n",
              "      <td>Male</td>\n",
              "    </tr>\n",
              "    <tr>\n",
              "      <th>197</th>\n",
              "      <td>197</td>\n",
              "      <td>61</td>\n",
              "      <td>52</td>\n",
              "      <td>False</td>\n",
              "      <td>164</td>\n",
              "      <td>84</td>\n",
              "      <td>29</td>\n",
              "      <td>0</td>\n",
              "      <td>Female</td>\n",
              "    </tr>\n",
              "    <tr>\n",
              "      <th>198</th>\n",
              "      <td>198</td>\n",
              "      <td>67</td>\n",
              "      <td>46</td>\n",
              "      <td>True</td>\n",
              "      <td>164</td>\n",
              "      <td>78</td>\n",
              "      <td>39</td>\n",
              "      <td>1</td>\n",
              "      <td>Male</td>\n",
              "    </tr>\n",
              "    <tr>\n",
              "      <th>199</th>\n",
              "      <td>199</td>\n",
              "      <td>43</td>\n",
              "      <td>39</td>\n",
              "      <td>False</td>\n",
              "      <td>162</td>\n",
              "      <td>107</td>\n",
              "      <td>36</td>\n",
              "      <td>1</td>\n",
              "      <td>Male</td>\n",
              "    </tr>\n",
              "  </tbody>\n",
              "</table>\n",
              "<p>200 rows × 9 columns</p>\n",
              "</div>"
            ],
            "text/plain": [
              "     Unnamed: 0  VO2_max  age  smoker  height  weight  revenue  \\\n",
              "0             0       45   66    True     165      76       30   \n",
              "1             1       37   58   False     180      87       32   \n",
              "2             2       54   27   False     155      62       29   \n",
              "3             3       58   32   False     183      78       26   \n",
              "4             4       45   75    True     166     101       10   \n",
              "..          ...      ...  ...     ...     ...     ...      ...   \n",
              "195         195       55   24    True     160      74       11   \n",
              "196         196       46   17   False     172      92       18   \n",
              "197         197       61   52   False     164      84       29   \n",
              "198         198       67   46    True     164      78       39   \n",
              "199         199       43   39   False     162     107       36   \n",
              "\n",
              "     diagnostician_id  gender  \n",
              "0                   2    Male  \n",
              "1                   1  Female  \n",
              "2                   0    Male  \n",
              "3                   0    Male  \n",
              "4                   2  Female  \n",
              "..                ...     ...  \n",
              "195                 3    Male  \n",
              "196                 3    Male  \n",
              "197                 0  Female  \n",
              "198                 1    Male  \n",
              "199                 1    Male  \n",
              "\n",
              "[200 rows x 9 columns]"
            ]
          },
          "execution_count": 4,
          "metadata": {},
          "output_type": "execute_result"
        }
      ],
      "source": [
        "# Lösung\n",
        "# Lade die Daten in einen pandas Dataframe namens \"performance_data\"\n",
        "performance_data = pd.read_csv(\"test_data.csv\")\n",
        "\n",
        "# Zeige performance_data an\n",
        "performance_data\n"
      ]
    },
    {
      "cell_type": "markdown",
      "metadata": {
        "id": "PS-jtBzqjQv9"
      },
      "source": [
        "# Aufgaben\n",
        "\n",
        "1. Was sind die höchsten drei Erlöse, die erzielt wurden?"
      ]
    },
    {
      "cell_type": "code",
      "execution_count": 16,
      "metadata": {
        "id": "BzoDvICHfrKy"
      },
      "outputs": [
        {
          "data": {
            "text/html": [
              "<div>\n",
              "<style scoped>\n",
              "    .dataframe tbody tr th:only-of-type {\n",
              "        vertical-align: middle;\n",
              "    }\n",
              "\n",
              "    .dataframe tbody tr th {\n",
              "        vertical-align: top;\n",
              "    }\n",
              "\n",
              "    .dataframe thead th {\n",
              "        text-align: right;\n",
              "    }\n",
              "</style>\n",
              "<table border=\"1\" class=\"dataframe\">\n",
              "  <thead>\n",
              "    <tr style=\"text-align: right;\">\n",
              "      <th></th>\n",
              "      <th>revenue</th>\n",
              "      <th>age</th>\n",
              "    </tr>\n",
              "  </thead>\n",
              "  <tbody>\n",
              "    <tr>\n",
              "      <th>0</th>\n",
              "      <td>49</td>\n",
              "      <td>54</td>\n",
              "    </tr>\n",
              "    <tr>\n",
              "      <th>1</th>\n",
              "      <td>49</td>\n",
              "      <td>63</td>\n",
              "    </tr>\n",
              "    <tr>\n",
              "      <th>2</th>\n",
              "      <td>49</td>\n",
              "      <td>88</td>\n",
              "    </tr>\n",
              "  </tbody>\n",
              "</table>\n",
              "</div>"
            ],
            "text/plain": [
              "   revenue  age\n",
              "0       49   54\n",
              "1       49   63\n",
              "2       49   88"
            ]
          },
          "execution_count": 16,
          "metadata": {},
          "output_type": "execute_result"
        }
      ],
      "source": [
        "ps.sqldf(\"SELECT revenue, age FROM performance_data ORDER BY revenue DESC LIMIT 3\")\n"
      ]
    },
    {
      "cell_type": "markdown",
      "metadata": {
        "id": "l3plnU6wFXDc"
      },
      "source": [
        "2. Was sind die höchsten drei Erlöse, die mit Nicht-Rauchern erzielt wurden?"
      ]
    },
    {
      "cell_type": "code",
      "execution_count": 17,
      "metadata": {
        "id": "aIenhC5IfrdI"
      },
      "outputs": [
        {
          "data": {
            "text/html": [
              "<div>\n",
              "<style scoped>\n",
              "    .dataframe tbody tr th:only-of-type {\n",
              "        vertical-align: middle;\n",
              "    }\n",
              "\n",
              "    .dataframe tbody tr th {\n",
              "        vertical-align: top;\n",
              "    }\n",
              "\n",
              "    .dataframe thead th {\n",
              "        text-align: right;\n",
              "    }\n",
              "</style>\n",
              "<table border=\"1\" class=\"dataframe\">\n",
              "  <thead>\n",
              "    <tr style=\"text-align: right;\">\n",
              "      <th></th>\n",
              "      <th>revenue</th>\n",
              "      <th>age</th>\n",
              "    </tr>\n",
              "  </thead>\n",
              "  <tbody>\n",
              "    <tr>\n",
              "      <th>0</th>\n",
              "      <td>49</td>\n",
              "      <td>54</td>\n",
              "    </tr>\n",
              "    <tr>\n",
              "      <th>1</th>\n",
              "      <td>49</td>\n",
              "      <td>63</td>\n",
              "    </tr>\n",
              "    <tr>\n",
              "      <th>2</th>\n",
              "      <td>48</td>\n",
              "      <td>76</td>\n",
              "    </tr>\n",
              "  </tbody>\n",
              "</table>\n",
              "</div>"
            ],
            "text/plain": [
              "   revenue  age\n",
              "0       49   54\n",
              "1       49   63\n",
              "2       48   76"
            ]
          },
          "execution_count": 17,
          "metadata": {},
          "output_type": "execute_result"
        }
      ],
      "source": [
        "ps.sqldf(\"SELECT revenue, age FROM performance_data WHERE smoker = TRUE ORDER BY revenue DESC LIMIT 3\")"
      ]
    },
    {
      "cell_type": "markdown",
      "metadata": {
        "id": "yM7vJm_qGcwV"
      },
      "source": [
        "3. Wie leistungsfähig sind Personen mit Gewicht über 80kg verglichen mit leichteren Personen? (2 Befehle)\n",
        "\n"
      ]
    },
    {
      "cell_type": "code",
      "execution_count": 33,
      "metadata": {
        "id": "rqHCBp2Nfrxh"
      },
      "outputs": [
        {
          "name": "stdout",
          "output_type": "stream",
          "text": [
            "     gender  VO2_max  weight  revenue\n",
            "0    Female       37      87       32\n",
            "1    Female       45     101       10\n",
            "2    Female       54      91       23\n",
            "3    Female       62      83       25\n",
            "4    Female       42      94       14\n",
            "..      ...      ...     ...      ...\n",
            "101  Female       38     101       46\n",
            "102  Female       61     108       21\n",
            "103    Male       46      92       18\n",
            "104  Female       61      84       29\n",
            "105    Male       43     107       36\n",
            "\n",
            "[106 rows x 4 columns]\n",
            "    gender  VO2_max  weight  revenue\n",
            "0     Male       45      76       30\n",
            "1     Male       54      62       29\n",
            "2     Male       58      78       26\n",
            "3     Male       33      70       44\n",
            "4     Male       65      64       36\n",
            "..     ...      ...     ...      ...\n",
            "83    Male       46      79       15\n",
            "84  Female       40      67       42\n",
            "85    Male       47      66       22\n",
            "86    Male       55      74       11\n",
            "87    Male       67      78       39\n",
            "\n",
            "[88 rows x 4 columns]\n"
          ]
        }
      ],
      "source": [
        "print(ps.sqldf(\"\"\"SELECT gender, VO2_max, weight, revenue FROM performance_data WHERE weight > 80 \"\"\") )\n",
        "print(ps.sqldf(\"\"\"SELECT gender, VO2_max, weight, revenue FROM performance_data WHERE weight < 80 \"\"\") )"
      ]
    },
    {
      "cell_type": "markdown",
      "metadata": {
        "id": "9A61esJFkDyM"
      },
      "source": [
        "4. Was ist die Durchschnittsleistung von Frauen über 170cm?"
      ]
    },
    {
      "cell_type": "code",
      "execution_count": 9,
      "metadata": {
        "id": "FyPgZP27fsVg"
      },
      "outputs": [
        {
          "data": {
            "text/html": [
              "<div>\n",
              "<style scoped>\n",
              "    .dataframe tbody tr th:only-of-type {\n",
              "        vertical-align: middle;\n",
              "    }\n",
              "\n",
              "    .dataframe tbody tr th {\n",
              "        vertical-align: top;\n",
              "    }\n",
              "\n",
              "    .dataframe thead th {\n",
              "        text-align: right;\n",
              "    }\n",
              "</style>\n",
              "<table border=\"1\" class=\"dataframe\">\n",
              "  <thead>\n",
              "    <tr style=\"text-align: right;\">\n",
              "      <th></th>\n",
              "      <th>AVG(VO2_max)</th>\n",
              "    </tr>\n",
              "  </thead>\n",
              "  <tbody>\n",
              "    <tr>\n",
              "      <th>0</th>\n",
              "      <td>47.390244</td>\n",
              "    </tr>\n",
              "  </tbody>\n",
              "</table>\n",
              "</div>"
            ],
            "text/plain": [
              "   AVG(VO2_max)\n",
              "0     47.390244"
            ]
          },
          "execution_count": 9,
          "metadata": {},
          "output_type": "execute_result"
        }
      ],
      "source": [
        "ps.sqldf(\"\"\"SELECT AVG(VO2_max) FROM performance_data WHERE gender=\"Female\" AND height >170 \"\"\")"
      ]
    },
    {
      "cell_type": "markdown",
      "metadata": {
        "id": "3Hi7YbJSkSNp"
      },
      "source": [
        "5. Wie viel Umsatz haben die einzelnen Diagnostiker:innen erzielt?"
      ]
    },
    {
      "cell_type": "code",
      "execution_count": 19,
      "metadata": {
        "id": "od8zoof6fssw"
      },
      "outputs": [
        {
          "data": {
            "text/html": [
              "<div>\n",
              "<style scoped>\n",
              "    .dataframe tbody tr th:only-of-type {\n",
              "        vertical-align: middle;\n",
              "    }\n",
              "\n",
              "    .dataframe tbody tr th {\n",
              "        vertical-align: top;\n",
              "    }\n",
              "\n",
              "    .dataframe thead th {\n",
              "        text-align: right;\n",
              "    }\n",
              "</style>\n",
              "<table border=\"1\" class=\"dataframe\">\n",
              "  <thead>\n",
              "    <tr style=\"text-align: right;\">\n",
              "      <th></th>\n",
              "      <th>revenue</th>\n",
              "    </tr>\n",
              "  </thead>\n",
              "  <tbody>\n",
              "    <tr>\n",
              "      <th>0</th>\n",
              "      <td>30</td>\n",
              "    </tr>\n",
              "    <tr>\n",
              "      <th>1</th>\n",
              "      <td>32</td>\n",
              "    </tr>\n",
              "    <tr>\n",
              "      <th>2</th>\n",
              "      <td>29</td>\n",
              "    </tr>\n",
              "    <tr>\n",
              "      <th>3</th>\n",
              "      <td>26</td>\n",
              "    </tr>\n",
              "    <tr>\n",
              "      <th>4</th>\n",
              "      <td>10</td>\n",
              "    </tr>\n",
              "    <tr>\n",
              "      <th>...</th>\n",
              "      <td>...</td>\n",
              "    </tr>\n",
              "    <tr>\n",
              "      <th>195</th>\n",
              "      <td>11</td>\n",
              "    </tr>\n",
              "    <tr>\n",
              "      <th>196</th>\n",
              "      <td>18</td>\n",
              "    </tr>\n",
              "    <tr>\n",
              "      <th>197</th>\n",
              "      <td>29</td>\n",
              "    </tr>\n",
              "    <tr>\n",
              "      <th>198</th>\n",
              "      <td>39</td>\n",
              "    </tr>\n",
              "    <tr>\n",
              "      <th>199</th>\n",
              "      <td>36</td>\n",
              "    </tr>\n",
              "  </tbody>\n",
              "</table>\n",
              "<p>200 rows × 1 columns</p>\n",
              "</div>"
            ],
            "text/plain": [
              "     revenue\n",
              "0         30\n",
              "1         32\n",
              "2         29\n",
              "3         26\n",
              "4         10\n",
              "..       ...\n",
              "195       11\n",
              "196       18\n",
              "197       29\n",
              "198       39\n",
              "199       36\n",
              "\n",
              "[200 rows x 1 columns]"
            ]
          },
          "execution_count": 19,
          "metadata": {},
          "output_type": "execute_result"
        }
      ],
      "source": [
        "ps.sqldf(\"\"\"SELECT revenue FROM performance_data \"\"\")"
      ]
    },
    {
      "cell_type": "markdown",
      "metadata": {
        "id": "5AsjuSxLkSNr"
      },
      "source": [
        "6. Wie ist die durchschnittliche Leistung von Rauchern und Nicht-Rauchern, die von den Diagnostiker:innen 0 und 1 betreut wurden."
      ]
    },
    {
      "cell_type": "code",
      "execution_count": 18,
      "metadata": {
        "id": "YDYDe6yEftUA"
      },
      "outputs": [
        {
          "data": {
            "text/html": [
              "<div>\n",
              "<style scoped>\n",
              "    .dataframe tbody tr th:only-of-type {\n",
              "        vertical-align: middle;\n",
              "    }\n",
              "\n",
              "    .dataframe tbody tr th {\n",
              "        vertical-align: top;\n",
              "    }\n",
              "\n",
              "    .dataframe thead th {\n",
              "        text-align: right;\n",
              "    }\n",
              "</style>\n",
              "<table border=\"1\" class=\"dataframe\">\n",
              "  <thead>\n",
              "    <tr style=\"text-align: right;\">\n",
              "      <th></th>\n",
              "      <th>AVG(VO2_max)</th>\n",
              "    </tr>\n",
              "  </thead>\n",
              "  <tbody>\n",
              "    <tr>\n",
              "      <th>0</th>\n",
              "      <td>48.990099</td>\n",
              "    </tr>\n",
              "    <tr>\n",
              "      <th>1</th>\n",
              "      <td>48.909091</td>\n",
              "    </tr>\n",
              "  </tbody>\n",
              "</table>\n",
              "</div>"
            ],
            "text/plain": [
              "   AVG(VO2_max)\n",
              "0     48.990099\n",
              "1     48.909091"
            ]
          },
          "execution_count": 18,
          "metadata": {},
          "output_type": "execute_result"
        }
      ],
      "source": [
        "ps.sqldf(\"\"\"SELECT AVG(VO2_max) FROM performance_data WHERE diagnostician_id= 0 or 1 GROUP BY smoker \"\"\")"
      ]
    },
    {
      "cell_type": "code",
      "execution_count": null,
      "metadata": {},
      "outputs": [],
      "source": []
    }
  ],
  "metadata": {
    "colab": {
      "collapsed_sections": [],
      "name": "SoSe-2022-MSE-SQL_Hausaufgabe 5",
      "provenance": [],
      "toc_visible": true
    },
    "kernelspec": {
      "display_name": "Python 3",
      "name": "python3"
    },
    "language_info": {
      "codemirror_mode": {
        "name": "ipython",
        "version": 3
      },
      "file_extension": ".py",
      "mimetype": "text/x-python",
      "name": "python",
      "nbconvert_exporter": "python",
      "pygments_lexer": "ipython3",
      "version": "3.9.12"
    }
  },
  "nbformat": 4,
  "nbformat_minor": 0
}
